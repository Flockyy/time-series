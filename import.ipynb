{
 "cells": [
  {
   "cell_type": "markdown",
   "metadata": {},
   "source": [
    "# Données des objets perdus"
   ]
  },
  {
   "cell_type": "code",
   "execution_count": 1,
   "metadata": {},
   "outputs": [],
   "source": [
    "import requests"
   ]
  },
  {
   "cell_type": "code",
   "execution_count": 2,
   "metadata": {},
   "outputs": [],
   "source": [
    "def specific_url_lostitem(annee):\n",
    "    URL = \"https://ressources.data.sncf.com/\"\n",
    "    ressource = \"api/records/1.0/search/?dataset=objets-trouves-restitution&q=&rows=10000&sort=date&refine.gc_obo_gare_origine_r_name=Lille+Europe&refine.date=\"\n",
    "    month_format = f\"{annee}\"\n",
    "    return URL + ressource + month_format"
   ]
  },
  {
   "cell_type": "code",
   "execution_count": 3,
   "metadata": {},
   "outputs": [
    {
     "name": "stdout",
     "output_type": "stream",
     "text": [
      "request réalisée pour 2016\n",
      "request réalisée pour 2017\n",
      "request réalisée pour 2018\n",
      "request réalisée pour 2019\n",
      "request réalisée pour 2020\n",
      "request réalisée pour 2021\n",
      "request réalisée pour 2022\n"
     ]
    }
   ],
   "source": [
    "from model import LostItem\n",
    "from sqlalchemy.orm import sessionmaker\n",
    "from sqlalchemy import create_engine\n",
    "\n",
    "engine = create_engine('sqlite:///db.sqlite')\n",
    "Session = sessionmaker(bind=engine)\n",
    "session = Session()\n",
    "\n",
    "field_list = [\n",
    "    [\"type_objet\", \"gc_obo_type_c\"],\n",
    "    [\"date_restitution\", \"gc_obo_date_heure_restitution_c\"]\n",
    "]\n",
    "\n",
    "for annee in [2016,2017,2018,2019,2020,2021,2022]:\n",
    "    my_request = requests.get(specific_url_lostitem(annee))\n",
    "    print(f\"request réalisée pour {annee}\")\n",
    "    for lost_item in my_request.json()[\"records\"]:   \n",
    "        lost_item_data= {}\n",
    "        \n",
    "        for field in field_list:    \n",
    "            try: \n",
    "                lost_item_data[field[0]] = lost_item[\"fields\"][field[1]]\n",
    "            except KeyError:\n",
    "                lost_item_data[field[0]]=None\n",
    "\n",
    "        session.add(LostItem(date=lost_item[\"fields\"][\"date\"],**lost_item_data))\n",
    "    \n",
    "    session.commit()"
   ]
  },
  {
   "cell_type": "code",
   "execution_count": 4,
   "metadata": {},
   "outputs": [
    {
     "name": "stdout",
     "output_type": "stream",
     "text": [
      "2022-12-28 11:12:44.248926\n"
     ]
    }
   ],
   "source": [
    "import dateparser\n",
    "print(dateparser.parse(\"last week\"))"
   ]
  },
  {
   "cell_type": "code",
   "execution_count": 5,
   "metadata": {},
   "outputs": [],
   "source": [
    "def request_lost_item(start_date,end_date):\n",
    "    if isinstance(start_date,str): \n",
    "        import dateparser\n",
    "        start_date = dateparser.parse(start_date)\n",
    "    if isinstance(end_date,str): \n",
    "        import dateparser\n",
    "        end_date = dateparser.parse(end_date)\n",
    "    \n",
    "    start_date = str(start_date.date())\n",
    "    end_date =  str(end_date.date())\n",
    "    URL = \"https://ressources.data.sncf.com/\"\n",
    "    ressource = f\"api/records/1.0/search/?dataset=objets-trouves-restitution&q=date:[{start_date}%20TO%20{end_date}]&rows=10000&sort=date&refine.gc_obo_gare_origine_r_name=Lille+Europe\"\n",
    "    \n",
    "    my_request = requests.get(URL + ressource)\n",
    "\n",
    "    for lost_item in my_request.json()[\"records\"]:   \n",
    "        lost_item_data= {}\n",
    "        \n",
    "        for field in field_list:    \n",
    "            try: \n",
    "                lost_item_data[field[0]] = lost_item[\"fields\"][field[1]]\n",
    "            except KeyError:\n",
    "                lost_item_data[field[0]]=None\n",
    "\n",
    "        session.add(LostItem(date=lost_item[\"fields\"][\"date\"],**lost_item_data))\n",
    "    \n",
    "    session.commit()\n",
    "\n",
    "    return URL + ressource"
   ]
  },
  {
   "cell_type": "code",
   "execution_count": 6,
   "metadata": {},
   "outputs": [
    {
     "data": {
      "text/plain": [
       "'https://ressources.data.sncf.com/api/records/1.0/search/?dataset=objets-trouves-restitution&q=date:[2022-12-28%20TO%202023-01-04]&rows=10000&sort=date&refine.gc_obo_gare_origine_r_name=Lille+Europe'"
      ]
     },
     "execution_count": 6,
     "metadata": {},
     "output_type": "execute_result"
    }
   ],
   "source": [
    "from datetime import datetime\n",
    "request_lost_item(\"last week\", datetime.now())"
   ]
  }
 ],
 "metadata": {
  "kernelspec": {
   "display_name": "datascience",
   "language": "python",
   "name": "python3"
  },
  "language_info": {
   "codemirror_mode": {
    "name": "ipython",
    "version": 3
   },
   "file_extension": ".py",
   "mimetype": "text/x-python",
   "name": "python",
   "nbconvert_exporter": "python",
   "pygments_lexer": "ipython3",
   "version": "3.9.7 (default, Sep 16 2021, 16:59:28) [MSC v.1916 64 bit (AMD64)]"
  },
  "orig_nbformat": 4,
  "vscode": {
   "interpreter": {
    "hash": "0195f37c3ff1fef7fff1c3adb201cbad876e788f469b4d6bd0fbf009b0df3e59"
   }
  }
 },
 "nbformat": 4,
 "nbformat_minor": 2
}
